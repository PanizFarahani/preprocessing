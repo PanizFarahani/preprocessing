{
  "nbformat": 4,
  "nbformat_minor": 0,
  "metadata": {
    "colab": {
      "provenance": [],
      "authorship_tag": "ABX9TyOhHMJHD0oTtJyRIuCPeyPx",
      "include_colab_link": true
    },
    "kernelspec": {
      "name": "python3",
      "display_name": "Python 3"
    },
    "language_info": {
      "name": "python"
    }
  },
  "cells": [
    {
      "cell_type": "markdown",
      "metadata": {
        "id": "view-in-github",
        "colab_type": "text"
      },
      "source": [
        "<a href=\"https://colab.research.google.com/github/PanizFarahani/preprocessing/blob/main/Untitled2.ipynb\" target=\"_parent\"><img src=\"https://colab.research.google.com/assets/colab-badge.svg\" alt=\"Open In Colab\"/></a>"
      ]
    },
    {
      "cell_type": "code",
      "execution_count": 1,
      "metadata": {
        "colab": {
          "base_uri": "https://localhost:8080/"
        },
        "id": "dezNR0Zjsivi",
        "outputId": "3b6a7f5f-d3a1-4fc0-ef00-1d6a00a5110e"
      },
      "outputs": [
        {
          "output_type": "stream",
          "name": "stderr",
          "text": [
            "[nltk_data] Downloading package punkt to /root/nltk_data...\n",
            "[nltk_data]   Unzipping tokenizers/punkt.zip.\n"
          ]
        },
        {
          "output_type": "execute_result",
          "data": {
            "text/plain": [
              "True"
            ]
          },
          "metadata": {},
          "execution_count": 1
        }
      ],
      "source": [
        "import nltk\n",
        "nltk.download('punkt')"
      ]
    },
    {
      "cell_type": "code",
      "source": [
        "paragraph = \"\"\"Sports is one of those activities that anyone  can take up at any age and any period in life. Grown-ups, kids, and seniors – everyone alike can participate in various sports. Many think of sports as an insignificant extra-curricular project in schools. Nevertheless,  sports play a fairly significant role, as does education in a people's life. To obtain sustainable growth in life, individuals should be experienced in sports and culture. While education makes the mind sharper, sports sharpen our body and make our figure more fitter. Thus, both are indispensable.\n",
        "There are numerous pros for those involving in sports. First, as all people know, competition can increase our body strength and develop a great mentality. Additionally, sports play a vital role in our confidence; usually, athletes believe in themselves more than any other person. Several kinds of research show that those in the daily practice of sports in any form record better mental and physical well-being. Furthermore, sports can also reduce the risk of a person contracting infections or facing any physical problems. Sports contests boost immunity and improve athletes' strength.\n",
        "Sports also affect the life expectancy of individuals, improving the possible years to live of human beings.  All human beings are correlated with games one way or another in our lives.\n",
        "While we were at schools or any other place, we somehow linked to sports. Nevertheless, since multiple educational institutions do not make it necessary to seek sports in universities or academic places, we lose touch when we grow up. Yet, numerous academics continue sports further, in their own way. There were some cases that individuals continued sports as a long life career.\n",
        "Different kinds of sporting activities attract many individuals worldwide; we can see football, hockey, and volleyball. Over the last few decades, Indoor sports such as various board games, table tennis, chess have become popular worldwide. As you may see today, athletes have a lot of options to choose from. Even though outdoor sports can heavily affect building the physical part of one's being, indoor games can affect our mental stability.\"\"\""
      ],
      "metadata": {
        "id": "5ePdKHomu4Iw"
      },
      "execution_count": 5,
      "outputs": []
    },
    {
      "cell_type": "code",
      "source": [
        "# Tokenizong sentences\n",
        "sentences = nltk.sent_tokenize(paragraph)\n",
        "sentences"
      ],
      "metadata": {
        "colab": {
          "base_uri": "https://localhost:8080/"
        },
        "id": "I0dKmmL5vAUS",
        "outputId": "14a1af3c-690c-413a-ab62-863109296a00"
      },
      "execution_count": 6,
      "outputs": [
        {
          "output_type": "execute_result",
          "data": {
            "text/plain": [
              "['Sports is one of those activities that anyone  can take up at any age and any period in life.',\n",
              " 'Grown-ups, kids, and seniors – everyone alike can participate in various sports.',\n",
              " 'Many think of sports as an insignificant extra-curricular project in schools.',\n",
              " \"Nevertheless,  sports play a fairly significant role, as does education in a people's life.\",\n",
              " 'To obtain sustainable growth in life, individuals should be experienced in sports and culture.',\n",
              " 'While education makes the mind sharper, sports sharpen our body and make our figure more fitter.',\n",
              " 'Thus, both are indispensable.',\n",
              " 'There are numerous pros for those involving in sports.',\n",
              " 'First, as all people know, competition can increase our body strength and develop a great mentality.',\n",
              " 'Additionally, sports play a vital role in our confidence; usually, athletes believe in themselves more than any other person.',\n",
              " 'Several kinds of research show that those in the daily practice of sports in any form record better mental and physical well-being.',\n",
              " 'Furthermore, sports can also reduce the risk of a person contracting infections or facing any physical problems.',\n",
              " \"Sports contests boost immunity and improve athletes' strength.\",\n",
              " 'Sports also affect the life expectancy of individuals, improving the possible years to live of human beings.',\n",
              " 'All human beings are correlated with games one way or another in our lives.',\n",
              " 'While we were at schools or any other place, we somehow linked to sports.',\n",
              " 'Nevertheless, since multiple educational institutions do not make it necessary to seek sports in universities or academic places, we lose touch when we grow up.',\n",
              " 'Yet, numerous academics continue sports further, in their own way.',\n",
              " 'There were some cases that individuals continued sports as a long life career.',\n",
              " 'Different kinds of sporting activities attract many individuals worldwide; we can see football, hockey, and volleyball.',\n",
              " 'Over the last few decades, Indoor sports such as various board games, table tennis, chess have become popular worldwide.',\n",
              " 'As you may see today, athletes have a lot of options to choose from.',\n",
              " \"Even though outdoor sports can heavily affect building the physical part of one's being, indoor games can affect our mental stability.\"]"
            ]
          },
          "metadata": {},
          "execution_count": 6
        }
      ]
    },
    {
      "cell_type": "code",
      "source": [
        "# Tokenizong words\n",
        "words = nltk.word_tokenize(paragraph)\n",
        "words"
      ],
      "metadata": {
        "colab": {
          "base_uri": "https://localhost:8080/"
        },
        "id": "jZrBdA0YvcZm",
        "outputId": "0202500a-16a2-4772-ca7d-adb4a45935cc"
      },
      "execution_count": 7,
      "outputs": [
        {
          "output_type": "execute_result",
          "data": {
            "text/plain": [
              "['Sports',\n",
              " 'is',\n",
              " 'one',\n",
              " 'of',\n",
              " 'those',\n",
              " 'activities',\n",
              " 'that',\n",
              " 'anyone',\n",
              " 'can',\n",
              " 'take',\n",
              " 'up',\n",
              " 'at',\n",
              " 'any',\n",
              " 'age',\n",
              " 'and',\n",
              " 'any',\n",
              " 'period',\n",
              " 'in',\n",
              " 'life',\n",
              " '.',\n",
              " 'Grown-ups',\n",
              " ',',\n",
              " 'kids',\n",
              " ',',\n",
              " 'and',\n",
              " 'seniors',\n",
              " '–',\n",
              " 'everyone',\n",
              " 'alike',\n",
              " 'can',\n",
              " 'participate',\n",
              " 'in',\n",
              " 'various',\n",
              " 'sports',\n",
              " '.',\n",
              " 'Many',\n",
              " 'think',\n",
              " 'of',\n",
              " 'sports',\n",
              " 'as',\n",
              " 'an',\n",
              " 'insignificant',\n",
              " 'extra-curricular',\n",
              " 'project',\n",
              " 'in',\n",
              " 'schools',\n",
              " '.',\n",
              " 'Nevertheless',\n",
              " ',',\n",
              " 'sports',\n",
              " 'play',\n",
              " 'a',\n",
              " 'fairly',\n",
              " 'significant',\n",
              " 'role',\n",
              " ',',\n",
              " 'as',\n",
              " 'does',\n",
              " 'education',\n",
              " 'in',\n",
              " 'a',\n",
              " 'people',\n",
              " \"'s\",\n",
              " 'life',\n",
              " '.',\n",
              " 'To',\n",
              " 'obtain',\n",
              " 'sustainable',\n",
              " 'growth',\n",
              " 'in',\n",
              " 'life',\n",
              " ',',\n",
              " 'individuals',\n",
              " 'should',\n",
              " 'be',\n",
              " 'experienced',\n",
              " 'in',\n",
              " 'sports',\n",
              " 'and',\n",
              " 'culture',\n",
              " '.',\n",
              " 'While',\n",
              " 'education',\n",
              " 'makes',\n",
              " 'the',\n",
              " 'mind',\n",
              " 'sharper',\n",
              " ',',\n",
              " 'sports',\n",
              " 'sharpen',\n",
              " 'our',\n",
              " 'body',\n",
              " 'and',\n",
              " 'make',\n",
              " 'our',\n",
              " 'figure',\n",
              " 'more',\n",
              " 'fitter',\n",
              " '.',\n",
              " 'Thus',\n",
              " ',',\n",
              " 'both',\n",
              " 'are',\n",
              " 'indispensable',\n",
              " '.',\n",
              " 'There',\n",
              " 'are',\n",
              " 'numerous',\n",
              " 'pros',\n",
              " 'for',\n",
              " 'those',\n",
              " 'involving',\n",
              " 'in',\n",
              " 'sports',\n",
              " '.',\n",
              " 'First',\n",
              " ',',\n",
              " 'as',\n",
              " 'all',\n",
              " 'people',\n",
              " 'know',\n",
              " ',',\n",
              " 'competition',\n",
              " 'can',\n",
              " 'increase',\n",
              " 'our',\n",
              " 'body',\n",
              " 'strength',\n",
              " 'and',\n",
              " 'develop',\n",
              " 'a',\n",
              " 'great',\n",
              " 'mentality',\n",
              " '.',\n",
              " 'Additionally',\n",
              " ',',\n",
              " 'sports',\n",
              " 'play',\n",
              " 'a',\n",
              " 'vital',\n",
              " 'role',\n",
              " 'in',\n",
              " 'our',\n",
              " 'confidence',\n",
              " ';',\n",
              " 'usually',\n",
              " ',',\n",
              " 'athletes',\n",
              " 'believe',\n",
              " 'in',\n",
              " 'themselves',\n",
              " 'more',\n",
              " 'than',\n",
              " 'any',\n",
              " 'other',\n",
              " 'person',\n",
              " '.',\n",
              " 'Several',\n",
              " 'kinds',\n",
              " 'of',\n",
              " 'research',\n",
              " 'show',\n",
              " 'that',\n",
              " 'those',\n",
              " 'in',\n",
              " 'the',\n",
              " 'daily',\n",
              " 'practice',\n",
              " 'of',\n",
              " 'sports',\n",
              " 'in',\n",
              " 'any',\n",
              " 'form',\n",
              " 'record',\n",
              " 'better',\n",
              " 'mental',\n",
              " 'and',\n",
              " 'physical',\n",
              " 'well-being',\n",
              " '.',\n",
              " 'Furthermore',\n",
              " ',',\n",
              " 'sports',\n",
              " 'can',\n",
              " 'also',\n",
              " 'reduce',\n",
              " 'the',\n",
              " 'risk',\n",
              " 'of',\n",
              " 'a',\n",
              " 'person',\n",
              " 'contracting',\n",
              " 'infections',\n",
              " 'or',\n",
              " 'facing',\n",
              " 'any',\n",
              " 'physical',\n",
              " 'problems',\n",
              " '.',\n",
              " 'Sports',\n",
              " 'contests',\n",
              " 'boost',\n",
              " 'immunity',\n",
              " 'and',\n",
              " 'improve',\n",
              " 'athletes',\n",
              " \"'\",\n",
              " 'strength',\n",
              " '.',\n",
              " 'Sports',\n",
              " 'also',\n",
              " 'affect',\n",
              " 'the',\n",
              " 'life',\n",
              " 'expectancy',\n",
              " 'of',\n",
              " 'individuals',\n",
              " ',',\n",
              " 'improving',\n",
              " 'the',\n",
              " 'possible',\n",
              " 'years',\n",
              " 'to',\n",
              " 'live',\n",
              " 'of',\n",
              " 'human',\n",
              " 'beings',\n",
              " '.',\n",
              " 'All',\n",
              " 'human',\n",
              " 'beings',\n",
              " 'are',\n",
              " 'correlated',\n",
              " 'with',\n",
              " 'games',\n",
              " 'one',\n",
              " 'way',\n",
              " 'or',\n",
              " 'another',\n",
              " 'in',\n",
              " 'our',\n",
              " 'lives',\n",
              " '.',\n",
              " 'While',\n",
              " 'we',\n",
              " 'were',\n",
              " 'at',\n",
              " 'schools',\n",
              " 'or',\n",
              " 'any',\n",
              " 'other',\n",
              " 'place',\n",
              " ',',\n",
              " 'we',\n",
              " 'somehow',\n",
              " 'linked',\n",
              " 'to',\n",
              " 'sports',\n",
              " '.',\n",
              " 'Nevertheless',\n",
              " ',',\n",
              " 'since',\n",
              " 'multiple',\n",
              " 'educational',\n",
              " 'institutions',\n",
              " 'do',\n",
              " 'not',\n",
              " 'make',\n",
              " 'it',\n",
              " 'necessary',\n",
              " 'to',\n",
              " 'seek',\n",
              " 'sports',\n",
              " 'in',\n",
              " 'universities',\n",
              " 'or',\n",
              " 'academic',\n",
              " 'places',\n",
              " ',',\n",
              " 'we',\n",
              " 'lose',\n",
              " 'touch',\n",
              " 'when',\n",
              " 'we',\n",
              " 'grow',\n",
              " 'up',\n",
              " '.',\n",
              " 'Yet',\n",
              " ',',\n",
              " 'numerous',\n",
              " 'academics',\n",
              " 'continue',\n",
              " 'sports',\n",
              " 'further',\n",
              " ',',\n",
              " 'in',\n",
              " 'their',\n",
              " 'own',\n",
              " 'way',\n",
              " '.',\n",
              " 'There',\n",
              " 'were',\n",
              " 'some',\n",
              " 'cases',\n",
              " 'that',\n",
              " 'individuals',\n",
              " 'continued',\n",
              " 'sports',\n",
              " 'as',\n",
              " 'a',\n",
              " 'long',\n",
              " 'life',\n",
              " 'career',\n",
              " '.',\n",
              " 'Different',\n",
              " 'kinds',\n",
              " 'of',\n",
              " 'sporting',\n",
              " 'activities',\n",
              " 'attract',\n",
              " 'many',\n",
              " 'individuals',\n",
              " 'worldwide',\n",
              " ';',\n",
              " 'we',\n",
              " 'can',\n",
              " 'see',\n",
              " 'football',\n",
              " ',',\n",
              " 'hockey',\n",
              " ',',\n",
              " 'and',\n",
              " 'volleyball',\n",
              " '.',\n",
              " 'Over',\n",
              " 'the',\n",
              " 'last',\n",
              " 'few',\n",
              " 'decades',\n",
              " ',',\n",
              " 'Indoor',\n",
              " 'sports',\n",
              " 'such',\n",
              " 'as',\n",
              " 'various',\n",
              " 'board',\n",
              " 'games',\n",
              " ',',\n",
              " 'table',\n",
              " 'tennis',\n",
              " ',',\n",
              " 'chess',\n",
              " 'have',\n",
              " 'become',\n",
              " 'popular',\n",
              " 'worldwide',\n",
              " '.',\n",
              " 'As',\n",
              " 'you',\n",
              " 'may',\n",
              " 'see',\n",
              " 'today',\n",
              " ',',\n",
              " 'athletes',\n",
              " 'have',\n",
              " 'a',\n",
              " 'lot',\n",
              " 'of',\n",
              " 'options',\n",
              " 'to',\n",
              " 'choose',\n",
              " 'from',\n",
              " '.',\n",
              " 'Even',\n",
              " 'though',\n",
              " 'outdoor',\n",
              " 'sports',\n",
              " 'can',\n",
              " 'heavily',\n",
              " 'affect',\n",
              " 'building',\n",
              " 'the',\n",
              " 'physical',\n",
              " 'part',\n",
              " 'of',\n",
              " 'one',\n",
              " \"'s\",\n",
              " 'being',\n",
              " ',',\n",
              " 'indoor',\n",
              " 'games',\n",
              " 'can',\n",
              " 'affect',\n",
              " 'our',\n",
              " 'mental',\n",
              " 'stability',\n",
              " '.']"
            ]
          },
          "metadata": {},
          "execution_count": 7
        }
      ]
    },
    {
      "cell_type": "code",
      "source": [
        "from nltk.stem import PorterStemmer\n",
        "from nltk.corpus import stopwords\n",
        "nltk.download('stopwords')"
      ],
      "metadata": {
        "colab": {
          "base_uri": "https://localhost:8080/"
        },
        "id": "oAs58qvZvTZR",
        "outputId": "8d7a4e4f-9c0c-48c3-a73d-01efc1dd9a60"
      },
      "execution_count": 11,
      "outputs": [
        {
          "output_type": "stream",
          "name": "stderr",
          "text": [
            "[nltk_data] Downloading package stopwords to /root/nltk_data...\n",
            "[nltk_data]   Unzipping corpora/stopwords.zip.\n"
          ]
        },
        {
          "output_type": "execute_result",
          "data": {
            "text/plain": [
              "True"
            ]
          },
          "metadata": {},
          "execution_count": 11
        }
      ]
    },
    {
      "cell_type": "code",
      "source": [
        "stemmer = PorterStemmer()\n",
        "# stemming\n",
        "for i in range(len(sentences)):\n",
        " words = nltk.word_tokenize(sentences[i])\n",
        " words = [stemmer.stem(word) for word in words if word not in set(stopwords.words('english'))]\n",
        " sentences[i] = ' '.join(words)"
      ],
      "metadata": {
        "id": "XigvrYgOwsuY"
      },
      "execution_count": 14,
      "outputs": []
    },
    {
      "cell_type": "code",
      "source": [
        "sentences[1]"
      ],
      "metadata": {
        "colab": {
          "base_uri": "https://localhost:8080/",
          "height": 53
        },
        "id": "4upss68jyz8a",
        "outputId": "5b560f11-142c-4214-bf53-34dff5e39b3e"
      },
      "execution_count": 15,
      "outputs": [
        {
          "output_type": "execute_result",
          "data": {
            "text/plain": [
              "'grown-up , kid , senior – everyon alik particip variou sport .'"
            ],
            "application/vnd.google.colaboratory.intrinsic+json": {
              "type": "string"
            }
          },
          "metadata": {},
          "execution_count": 15
        }
      ]
    },
    {
      "cell_type": "code",
      "source": [
        "from nltk.stem import WordNetLemmatizer\n",
        "nltk.download('wordnet')"
      ],
      "metadata": {
        "colab": {
          "base_uri": "https://localhost:8080/"
        },
        "id": "wkM4rO2fzSIW",
        "outputId": "a98c2633-f110-4726-f745-fcd38e33a53e"
      },
      "execution_count": 16,
      "outputs": [
        {
          "output_type": "stream",
          "name": "stderr",
          "text": [
            "[nltk_data] Downloading package wordnet to /root/nltk_data...\n"
          ]
        },
        {
          "output_type": "execute_result",
          "data": {
            "text/plain": [
              "True"
            ]
          },
          "metadata": {},
          "execution_count": 16
        }
      ]
    },
    {
      "cell_type": "code",
      "source": [
        "lemmatizer = WordNetLemmatizer()\n",
        "sentences = nltk.sent_tokenize(paragraph)\n",
        "# Lemmatization\n",
        "for i in range(len(sentences)):\n",
        " words = nltk.word_tokenize(sentences[i])\n",
        " words = [stemmer.stem(word) for word in words if word not in set(stopwords.words('english'))]\n",
        " sentences[i] = ' '.join(words)"
      ],
      "metadata": {
        "id": "ibNpn7YUzl9O"
      },
      "execution_count": 19,
      "outputs": []
    },
    {
      "cell_type": "code",
      "source": [
        "sentences[1]"
      ],
      "metadata": {
        "colab": {
          "base_uri": "https://localhost:8080/",
          "height": 70
        },
        "id": "D3yIN2ND0lad",
        "outputId": "e0781c08-81ec-4d63-b090-869a58f4074b"
      },
      "execution_count": 18,
      "outputs": [
        {
          "output_type": "execute_result",
          "data": {
            "text/plain": [
              "'Grown-ups, kids, and seniors – everyone alike can participate in various sports.'"
            ],
            "application/vnd.google.colaboratory.intrinsic+json": {
              "type": "string"
            }
          },
          "metadata": {},
          "execution_count": 18
        }
      ]
    },
    {
      "cell_type": "code",
      "source": [
        "# cleaning the texts\n",
        "import re\n",
        "from nltk.corpus import stopwords\n",
        "from nltk.stem.porter import PorterStemmer\n",
        "from nltk.stem import WordNetLemmatizer\n",
        "ps = PorterStemmer()\n",
        "wordnet=WordNetLemmatizer()\n",
        "sentences = nltk.sent_tokenize(paragraph)\n",
        "corpus = []\n",
        "for i in range(len(sentences)):\n",
        " review = re.sub('[^a-zA-Z]', ' ', sentences[i])\n",
        " review = review.lower()\n",
        " review = review.split()\n",
        " review = [ps.stem(word) for word in review if not word in set(stopwords.words('english'))]\n",
        " review = ' '.join(review)\n",
        " corpus.append(review)\n",
        "# creating the Bag of words model\n",
        "from sklearn.feature_extraction.text import CountVectorizer\n",
        "cv = CountVectorizer(max_features = 1500)\n",
        "x = cv.fit_transform(corpus).toarray()"
      ],
      "metadata": {
        "id": "a4uv8vcs02qf"
      },
      "execution_count": 33,
      "outputs": []
    },
    {
      "cell_type": "code",
      "source": [
        "x"
      ],
      "metadata": {
        "colab": {
          "base_uri": "https://localhost:8080/"
        },
        "id": "GfLPpMPJ6IdM",
        "outputId": "56e74d0f-e19d-4f6a-c107-98b0dd4c4f15"
      },
      "execution_count": 34,
      "outputs": [
        {
          "output_type": "execute_result",
          "data": {
            "text/plain": [
              "array([[0, 1, 0, ..., 0, 0, 0],\n",
              "       [0, 0, 0, ..., 0, 0, 0],\n",
              "       [0, 0, 0, ..., 0, 0, 0],\n",
              "       ...,\n",
              "       [0, 0, 0, ..., 1, 0, 0],\n",
              "       [0, 0, 0, ..., 0, 0, 0],\n",
              "       [0, 0, 0, ..., 0, 0, 0]])"
            ]
          },
          "metadata": {},
          "execution_count": 34
        }
      ]
    },
    {
      "cell_type": "code",
      "source": [
        "sentences = nltk.sent_tokenize(paragraph)\n",
        "corpus = []\n",
        "for i in range(len(sentences)):\n",
        " review = re.sub('[^a-zA-Z]', ' ', sentences[i])\n",
        " review = review.lower()\n",
        " review = review.split()\n",
        " review = [wordnet.lemmatize(word) for word in review if not word in set(stopwords.words('english'))]\n",
        " review = ' '.join(review)\n",
        "corpus.append(review)\n",
        "# Creating the TF-IDF model\n",
        "from sklearn.feature_extraction.text import TfidfVectorizer\n",
        "tf = TfidfVectorizer()\n",
        "x = tf.fit_transform(corpus).toarray()"
      ],
      "metadata": {
        "id": "jbzU1Amh6LZV"
      },
      "execution_count": 38,
      "outputs": []
    },
    {
      "cell_type": "code",
      "source": [
        "x"
      ],
      "metadata": {
        "colab": {
          "base_uri": "https://localhost:8080/"
        },
        "id": "RBsdcTTL8Bgh",
        "outputId": "26664865-98f5-44ed-88cf-d1f944f53b22"
      },
      "execution_count": 39,
      "outputs": [
        {
          "output_type": "execute_result",
          "data": {
            "text/plain": [
              "array([[0.48507125, 0.24253563, 0.24253563, 0.24253563, 0.24253563,\n",
              "        0.24253563, 0.24253563, 0.24253563, 0.24253563, 0.24253563,\n",
              "        0.24253563, 0.24253563, 0.24253563, 0.24253563]])"
            ]
          },
          "metadata": {},
          "execution_count": 39
        }
      ]
    }
  ]
}